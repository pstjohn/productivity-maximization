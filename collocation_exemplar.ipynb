{
 "cells": [
  {
   "cell_type": "code",
   "execution_count": 3,
   "metadata": {
    "collapsed": false
   },
   "outputs": [],
   "source": [
    "import numpy as np\n",
    "import pandas as pd\n",
    "import itertools\n",
    "\n",
    "import matplotlib.pyplot as plt\n",
    "import matplotlib\n",
    "import seaborn as sns\n",
    "sns.set_style('darkgrid')\n",
    "sns.set_context('talk', font_scale=1.5)\n",
    "sns.set(color_codes=True)\n",
    "\n",
    "%matplotlib inline\n",
    "\n",
    "def lighten_color(color, degree):\n",
    "    cin = matplotlib.colors.colorConverter.to_rgb(color)\n",
    "    cw = np.array([1.0]*3)\n",
    "    return tuple(cin + (cw - cin)*degree)"
   ]
  },
  {
   "cell_type": "code",
   "execution_count": 4,
   "metadata": {
    "collapsed": false
   },
   "outputs": [
    {
     "name": "stdout",
     "output_type": "stream",
     "text": [
      "\n",
      "******************************************************************************\n",
      "This program contains Ipopt, a library for large-scale nonlinear optimization.\n",
      " Ipopt is released as open source code under the Eclipse Public License (EPL).\n",
      "         For more information visit http://projects.coin-or.org/Ipopt\n",
      "******************************************************************************\n",
      "\n"
     ]
    }
   ],
   "source": [
    "from succinogenes.coll_setup import (setup_collocation, initialize_collocation,\n",
    "                                     calc_max_productivity, calc_max_yield)\n",
    "\n",
    "succ_coll = setup_collocation([4, 4, 4])\n",
    "succ_max_prod = calc_max_productivity(succ_coll)\n",
    "\n",
    "coll = succ_coll"
   ]
  },
  {
   "cell_type": "code",
   "execution_count": 5,
   "metadata": {
    "collapsed": false
   },
   "outputs": [],
   "source": [
    "ts = np.linspace(0, coll.var.tf_op, 100)\n",
    "sol = coll._interpolate_solution(ts)\n",
    "deriv = coll._interpolate_derivative(ts)\n",
    "\n",
    "fstage_starts = np.hstack([np.array(0.),\n",
    "                           np.cumsum(np.array(coll.stage_breakdown) *\n",
    "                                     coll.var.h_op)])\n",
    "\n",
    "fstage_ends = np.hstack([np.cumsum(np.array(coll.stage_breakdown) *\n",
    "                                   coll.var.h_op)])\n",
    "\n",
    "from scipy.interpolate import lagrange\n",
    "\n",
    "const_array = coll.var.a_op\n",
    "\n",
    "a_ts = np.empty(len(ts))\n",
    "\n",
    "stage_starts = [0.]\n",
    "stage_ends = [coll.var.h_op[0]]\n",
    "for i in range(coll.nk-1):\n",
    "    stage_starts += [coll.var.h_op[coll._get_stage_index(i)] +\n",
    "                     stage_starts[-1]]\n",
    "    stage_ends += [coll.var.h_op[coll._get_stage_index(i)] +\n",
    "                     stage_starts[-1]]\n",
    "\n",
    "stage_starts = pd.Series(stage_starts)\n",
    "stages = stage_starts.searchsorted(ts, side='right') - 1\n",
    "\n",
    "for ki in range(coll.nk):\n",
    "    interp = lagrange(coll.col_vars['tau_root'][1:], \n",
    "                      const_array[ki])\n",
    "\n",
    "    a_ts[stages == ki] = interp(\n",
    "        (ts[stages == ki] - stage_starts[ki]) /\n",
    "        coll.var.h_op[coll._get_stage_index(ki)])\n",
    "        \n",
    "t_f = coll.col_vars['tgrid'][:, 1:].flatten()\n",
    "a_f = coll.var.a_op.flatten()"
   ]
  },
  {
   "cell_type": "code",
   "execution_count": null,
   "metadata": {
    "collapsed": false
   },
   "outputs": [],
   "source": [
    "tg_f = coll.col_vars['tgrid'].flatten()\n",
    "sol_f = coll.var.x_op.reshape((len(tg_f), coll.nx))"
   ]
  },
  {
   "cell_type": "code",
   "execution_count": null,
   "metadata": {
    "collapsed": false
   },
   "outputs": [],
   "source": [
    "sol[:,1].max()"
   ]
  },
  {
   "cell_type": "code",
   "execution_count": null,
   "metadata": {
    "collapsed": false
   },
   "outputs": [],
   "source": [
    "with sns.axes_style('ticks'):\n",
    "    fig, axmatrix = plt.subplots(nrows=2, ncols=1, sharex=True, figsize=(8, 4))\n",
    "    ax1 = axmatrix[0]\n",
    "    ax2 = axmatrix[1]\n",
    "    ax_biomass = ax1.twinx()\n",
    "    \n",
    "    conc_lines = ax1.plot(ts, sol[:,-5:-1], ls=(5, (3, 3)), lw=1)\n",
    "    conc_points = ax1.plot(tg_f, sol_f[:,-5:-1], '.')\n",
    "    \n",
    "    for line, point in zip(conc_lines, conc_points):\n",
    "        point.set_color(line.get_color())\n",
    "    \n",
    "    biomass_lines = ax_biomass.plot(ts, sol[:, 0],  color=sns.color_palette()[-2], ls=(5, (3, 3)), lw=1.)\n",
    "    biomass_points = ax_biomass.plot(tg_f, sol_f[:, 0], '.', color=sns.color_palette()[-2])\n",
    "    \n",
    "    formate_line = ax_biomass.plot(ts, sol[:, -1],  color=sns.color_palette()[-1], ls=(5, (3, 3)), lw=1.)\n",
    "    formate_point = ax_biomass.plot(tg_f, sol_f[:, -1], '.', color=sns.color_palette()[-1])\n",
    "    \n",
    "    \n",
    "    ax2.plot(t_f, a_f, 'k.')\n",
    "    line = ax2.plot(ts, a_ts, 'k', lw=1., ls=(5, (3, 3)))    \n",
    "    \n",
    "    \n",
    "    \n",
    "    ax_biomass.set_ylim([0, 5])\n",
    "    \n",
    "    colors = itertools.cycle(['w', 'k'])\n",
    "    \n",
    "    for ax in axmatrix:\n",
    "        for start, end, color in zip(stage_starts, stage_ends, colors):\n",
    "            ax.axvspan(start, end, facecolor=lighten_color(color, 0.9), edgecolor='none')\n",
    "            \n",
    "        for end in fstage_ends[:-1]:\n",
    "            ax.axvline(end, color='k')\n",
    "        \n",
    "        for t_grid in t_f:\n",
    "            ax.axvline(t_grid, color=lighten_color(color, 0.5), lw=1., linestyle=':')\n",
    "        \n",
    "    ax1.set_xlim([0, coll.var.tf_op])\n",
    "    \n",
    "    ax1.legend(zip(conc_lines + biomass_lines + formate_line, \n",
    "                   conc_points + biomass_points + formate_point),\n",
    "           ['ATP', 'Glucose', 'Succinate', 'Acetate', 'Biomass', 'Formate'],\n",
    "          ncol=6, loc='upper center', bbox_to_anchor=(.5,-0.05))\n",
    "    \n",
    "    sns.despine(ax=ax1, right=False, top=True)\n",
    "    sns.despine(ax=ax_biomass, right=False, top=True)\n",
    "    sns.despine(ax=ax2, right=True)\n",
    "    \n",
    "    ax_biomass.set_ylabel('Biomass (g DCW/L)\\nFormate (mM)')\n",
    "    ax1.set_ylabel('Concentration (mM)')\n",
    "    \n",
    "    ax2.set_ylabel('EFM Activity\\n(mmol/g DCW * hr)')\n",
    "    \n",
    "    for i, (start, end) in enumerate(zip(fstage_starts, fstage_ends)):\n",
    "        ax2.text(start + (end-start)/2., 2.1, 'Stage {}'.format(i + 1), ha='center', va='bottom', fontdict={'size' : 12, 'weight' : 'bold'})\n",
    "    \n",
    "    ax2.set_xticks(t_f[:3].tolist(), minor=True)\n",
    "    ax2.set_xticklabels([r'$\\tau_1$', r'$\\tau_2$', r'$\\tau_3$'], minor=True)\n",
    "    ax1.xaxis.set_tick_params(which='minor', bottom=False)\n",
    "    plt.setp(ax1.get_xticklabels(which='minor'), visible=False)\n",
    "    \n",
    "    ax2.set_xlabel('Time (hr)')\n",
    "    \n",
    "    fig.subplots_adjust(hspace=0.3)\n",
    "    \n",
    "    fig.savefig('figs/coll_optimal.svg')"
   ]
  },
  {
   "cell_type": "code",
   "execution_count": null,
   "metadata": {
    "collapsed": false
   },
   "outputs": [],
   "source": [
    "def build_rxn_string(efm):\n",
    "    efm = efm.copy()\n",
    "    efm /= -efm[efm < -1E-6].sum()\n",
    "    efm.index = efm.index.str.replace('_e', '').str.replace('EX_', '')\n",
    "    reactants = efm[efm < -1E-2]\n",
    "    products = efm[efm > 1E-2]\n",
    "    reactant_bits = ' + '.join(['{:0.2f} {}'.format(-stoich, name) for\n",
    "                                name, stoich in reactants.iteritems()])\n",
    "    product_bits = ' + '.join(['{:0.2f} {}'.format(stoich, name) for\n",
    "                               name, stoich in products.iteritems()])\n",
    "    return reactant_bits + ' --> ' + product_bits\n",
    "\n",
    "\n",
    "v_op = pd.DataFrame(coll.var.v_op,\n",
    "                    columns=[build_rxn_string(efm)\n",
    "                             for i, efm in coll.efms_float.iterrows()]).T\n",
    "v_op = v_op[v_op.sum(1) > 1E-4]"
   ]
  },
  {
   "cell_type": "code",
   "execution_count": null,
   "metadata": {
    "collapsed": false
   },
   "outputs": [],
   "source": [
    "fig = plt.figure(figsize=[8, 4])\n",
    "ax1 = fig.add_subplot(131, aspect='equal')\n",
    "ax2 = fig.add_subplot(132, aspect='equal')\n",
    "ax3 = fig.add_subplot(133, aspect='equal')\n",
    "\n",
    "for i, ax in enumerate([ax1, ax2, ax3]):\n",
    "    ax.set_title('Stage {}'.format(i+1))\n",
    "\n",
    "\n",
    "    \n",
    "pie1 = ax1.pie(v_op[0].values, startangle=90., colors=sns.color_palette(\"cubehelix\", 5))\n",
    "pie2 = ax2.pie(v_op[1].values, startangle=90., colors=sns.color_palette(\"cubehelix\", 5))\n",
    "pie3 = ax3.pie(v_op[2].values, startangle=90., colors=sns.color_palette(\"cubehelix\", 5))\n",
    "\n",
    "for pie_wedge in itertools.chain(pie1[0], pie2[0], pie3[0]):\n",
    "    pie_wedge.set_edgecolor('white')\n",
    "    pie_wedge.set_linewidth('2')\n",
    "    \n",
    "ax3.legend(loc=[1.05, .25], handles=pie3[0], labels=v_op.index.tolist())\n",
    "\n",
    "fig.savefig('figs/efm_breakdown.svg')"
   ]
  },
  {
   "cell_type": "code",
   "execution_count": null,
   "metadata": {
    "collapsed": true
   },
   "outputs": [],
   "source": []
  }
 ],
 "metadata": {
  "kernelspec": {
   "display_name": "Python 3",
   "language": "python",
   "name": "python3"
  },
  "language_info": {
   "codemirror_mode": {
    "name": "ipython",
    "version": 3
   },
   "file_extension": ".py",
   "mimetype": "text/x-python",
   "name": "python",
   "nbconvert_exporter": "python",
   "pygments_lexer": "ipython3",
   "version": "3.5.1"
  }
 },
 "nbformat": 4,
 "nbformat_minor": 0
}
